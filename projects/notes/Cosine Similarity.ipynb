{
 "cells": [
  {
   "cell_type": "markdown",
   "metadata": {},
   "source": [
    "### Fundamentals\n",
    "#### The Dot Product"
   ]
  },
  {
   "cell_type": "markdown",
   "metadata": {},
   "source": [
    "We have 2 vectors $\\vec{a}$, $\\vec{b}$ defined as:\n",
    "\n",
    "<center>$\\vec{a}$ = ($a_{1}$, $a_{2}$, $a_{3}$, ... , $a_{n}$)</center>\n",
    "\n",
    "<center>$\\vec{b}$ = ($b_{1}$, $b_{2}$, $b_{3}$, ... , $b_{n}$)</center>\n",
    "\n",
    "where $\\vec{a}_{n}$ and $\\vec{b}_{n}$ are components of the vector (e.g. features of a document) and <i>n</i> is the dimension of the vectors. \n",
    "\n",
    "The dot product is defined is the multiplication of each componenet from both vectors added together:\n",
    "\n",
    "<center>$\\vec{a}$ $\\cdot$ $\\vec{b}$ = $a_{1}$$b_{1}$ + $a_{2}$$b_{2}$ + ... + $a_{n}$$b_{n}$ </center>\n",
    "\n",
    "For example in 2D:\n",
    "\n",
    "<center>$\\vec{a}$ = (0,4)</center>\n",
    "\n",
    "<center>$\\vec{b}$ = (6,0)</center>\n",
    "\n",
    "<center>$\\vec{a}$ $\\cdot$ $\\vec{b}$ = $0*6 + 4*0$ = $0$</center>\n"
   ]
  },
  {
   "cell_type": "markdown",
   "metadata": {},
   "source": [
    "The <b>geometric definition</b> of the dot product is defined as:\n",
    "\n",
    "<center>$\\vec{a}$ $\\cdot$ $\\vec{b}$ = $\\|\\vec{a}\\|$ $\\|\\vec{b}\\|$$\\cos\\theta$\n",
    "\n",
    "where $\\|\\vec{a}\\|$$\\cos\\theta$ is the projection of $\\vec{a}$ onto $\\vec{b}$:\n",
    "\n",
    "\n",
    "<img src= \"http://blog.christianperone.com/wp-content/uploads/2013/09/Dot_Product.png\", height=200, width=200>"
   ]
  },
  {
   "cell_type": "markdown",
   "metadata": {},
   "source": [
    "Now, what happens when vector $\\vec{a}$ is orthogonal to vector $\\vec{b}$, meaning when $\\vec{a}$ is 90 degrees from vector $\\vec{b}$?\n",
    "\n",
    "<img src= \"http://blog.christianperone.com/wp-content/uploads/2013/09/vectors1.gif\", height=200, width=200>\n",
    "\n",
    "There will be no adjacent side on the triangle, and therefore the dot product of the 2 vectors is 0"
   ]
  },
  {
   "cell_type": "markdown",
   "metadata": {},
   "source": [
    "### Cosine Similarity\n",
    "The cosine similarity between 2 vectors is a measure that calculates the consine of the angle between them. This metric is a measurement of <b>orientation</b> and not magnitude and is defined as:\n",
    "\n",
    "<center> $\\cos\\theta$ = $\\frac{\\vec{a} \\cdot \\vec{b}}{\\|\\vec{a}\\|\\|\\vec{b}\\|}$ </center>\n",
    "\n",
    "This metric represents how related the 2 items are by angle instead of magnitude.\n",
    "\n",
    "Case examples:"
   ]
  },
  {
   "cell_type": "markdown",
   "metadata": {},
   "source": [
    "\n",
    "<img src= \"http://blog.christianperone.com/wp-content/uploads/2013/09/cosinesimilarityfq1.png\", height=800, width=800>\n"
   ]
  },
  {
   "cell_type": "code",
   "execution_count": 1,
   "metadata": {
    "collapsed": true
   },
   "outputs": [],
   "source": [
    "import numpy as np\n",
    "\n",
    "def cosine_similarity(a,b):\n",
    "    \"\"\"\n",
    "    Takes 2 vectors a, b and returns cosine similarity measurement\n",
    "    \"\"\"\n",
    "    dot_product = np.dot(a,b)\n",
    "    norm_a = np.linalg.norm(a)\n",
    "    norm_b = np.linalg.norm(b)\n",
    "    return dot_product / (norm_a * norm_b)"
   ]
  },
  {
   "cell_type": "code",
   "execution_count": 2,
   "metadata": {
    "collapsed": true
   },
   "outputs": [],
   "source": [
    "sentence_1 = \"Ashley really loves dessert\"\n",
    "sentence_2 = \"Hannah loves dessert too\"\n",
    "sentence_3 = \"Ice cream is dessert\""
   ]
  },
  {
   "cell_type": "code",
   "execution_count": 7,
   "metadata": {
    "collapsed": true
   },
   "outputs": [],
   "source": [
    "sentence_1 = np.array([1, 1, 1, 1, 0, 0, 0, 0, 0]) \n",
    "sentence_2 = np.array([0, 0, 1, 1, 1, 1, 0, 0, 0])\n",
    "sentence_3 = np.array([0, 0, 0, 1, 0, 0, 1, 1, 1])"
   ]
  },
  {
   "cell_type": "code",
   "execution_count": 8,
   "metadata": {},
   "outputs": [
    {
     "name": "stdout",
     "output_type": "stream",
     "text": [
      "0.5\n",
      "0.25\n"
     ]
    }
   ],
   "source": [
    "print(cosine_similarity(sentence_1, sentence_2)) \n",
    "print(cosine_similarity(sentence_1, sentence_3)) "
   ]
  }
 ],
 "metadata": {
  "kernelspec": {
   "display_name": "Python 3",
   "language": "python",
   "name": "python3"
  },
  "language_info": {
   "codemirror_mode": {
    "name": "ipython",
    "version": 3
   },
   "file_extension": ".py",
   "mimetype": "text/x-python",
   "name": "python",
   "nbconvert_exporter": "python",
   "pygments_lexer": "ipython3",
   "version": "3.6.2"
  }
 },
 "nbformat": 4,
 "nbformat_minor": 2
}
